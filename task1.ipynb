{
 "cells": [
  {
   "cell_type": "code",
   "execution_count": 2,
   "id": "162f8362",
   "metadata": {},
   "outputs": [
    {
     "name": "stdout",
     "output_type": "stream",
     "text": [
      "Enter the radius of the circle:\n",
      "1\n",
      "The area of the circle is:  3.1416\n"
     ]
    }
   ],
   "source": [
    "#area of circle\n",
    "\n",
    "def area_c(r):\n",
    "    return 3.1416*r*r\n",
    "\n",
    "print(\"Enter the radius of the circle:\")\n",
    "radius=float(input())\n",
    "\n",
    "area= area_c(radius)\n",
    "print(\"The area of the circle is: \",area)\n",
    "\n",
    "\n"
   ]
  },
  {
   "cell_type": "code",
   "execution_count": 5,
   "id": "a9333eb3",
   "metadata": {},
   "outputs": [
    {
     "name": "stdout",
     "output_type": "stream",
     "text": [
      "Enter three numbers:\n",
      "5\n",
      "6\n",
      "7\n",
      "The largest number is: \n",
      "7.0\n"
     ]
    }
   ],
   "source": [
    "def largest(a,b,c):\n",
    "    if a>b:\n",
    "        if a>c:\n",
    "            print(a)\n",
    "        else:\n",
    "            print(c)\n",
    "    else:\n",
    "        if b>c:\n",
    "            print(b)\n",
    "        else:\n",
    "            print(c)\n",
    "print(\"Enter three numbers:\")\n",
    "p=float(input())\n",
    "q=float(input())\n",
    "r=float(input())\n",
    "\n",
    "print(\"The largest number is: \")\n",
    "largest(p,q,r)\n",
    "\n"
   ]
  },
  {
   "cell_type": "code",
   "execution_count": 7,
   "id": "37cc271f",
   "metadata": {},
   "outputs": [
    {
     "name": "stdout",
     "output_type": "stream",
     "text": [
      "Enter the string:\n",
      "abcde\n",
      "1\n",
      "0\n",
      "0\n",
      "0\n",
      "1\n"
     ]
    }
   ],
   "source": [
    "def vc(s):\n",
    "    for i in s:\n",
    "        if i=='a' or i=='e' or  i=='i' or i=='o' or i=='u':\n",
    "            print(\"1\")\n",
    "        else:\n",
    "            print(\"0\")\n",
    "            \n",
    "            \n",
    "print(\"Enter the string:\")\n",
    "str_1=input()\n",
    "vc(str_1)\n"
   ]
  },
  {
   "cell_type": "code",
   "execution_count": 14,
   "id": "f90eec31",
   "metadata": {},
   "outputs": [
    {
     "name": "stdout",
     "output_type": "stream",
     "text": [
      "Enter two numbers:\n",
      "6\n",
      "7\n",
      "Enter operation:\n",
      "*\n",
      "42.0\n"
     ]
    }
   ],
   "source": [
    "print(\"Enter two numbers:\")\n",
    "a=float(input())\n",
    "b=float(input())\n",
    "print(\"Enter operation:\")\n",
    "c=input()\n",
    "if c=='+':\n",
    "    print(a+b)\n",
    "elif c=='-':\n",
    "    print(a-b)\n",
    "elif c=='*':\n",
    "    print(a*b)\n",
    "elif c=='/':\n",
    "    print(a/b)    "
   ]
  },
  {
   "cell_type": "code",
   "execution_count": 16,
   "id": "581e841c",
   "metadata": {},
   "outputs": [
    {
     "name": "stdout",
     "output_type": "stream",
     "text": [
      "ABCDE]\n",
      "ABCDE]ABCDE]\n"
     ]
    }
   ],
   "source": [
    "s1=input()\n",
    "s2=s1\n",
    "s3=s1+s2\n",
    "print(s3)"
   ]
  },
  {
   "cell_type": "code",
   "execution_count": null,
   "id": "a26ef9a5",
   "metadata": {},
   "outputs": [],
   "source": []
  }
 ],
 "metadata": {
  "kernelspec": {
   "display_name": "Python 3 (ipykernel)",
   "language": "python",
   "name": "python3"
  },
  "language_info": {
   "codemirror_mode": {
    "name": "ipython",
    "version": 3
   },
   "file_extension": ".py",
   "mimetype": "text/x-python",
   "name": "python",
   "nbconvert_exporter": "python",
   "pygments_lexer": "ipython3",
   "version": "3.10.10"
  }
 },
 "nbformat": 4,
 "nbformat_minor": 5
}
